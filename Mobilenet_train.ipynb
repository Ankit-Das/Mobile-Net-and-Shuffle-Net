{
  "nbformat": 4,
  "nbformat_minor": 0,
  "metadata": {
    "accelerator": "GPU",
    "colab": {
      "name": "Mobilenet_Deployment.ipynb",
      "provenance": [],
      "collapsed_sections": [],
      "machine_shape": "hm"
    },
    "kernelspec": {
      "display_name": "Python 3",
      "language": "python",
      "name": "python3"
    },
    "language_info": {
      "codemirror_mode": {
        "name": "ipython",
        "version": 3
      },
      "file_extension": ".py",
      "mimetype": "text/x-python",
      "name": "python",
      "nbconvert_exporter": "python",
      "pygments_lexer": "ipython3",
      "version": "3.6.5"
    },
    "widgets": {
      "application/vnd.jupyter.widget-state+json": {
        "9716f2c04b5c4fb3b598be394d8ca0cb": {
          "model_module": "@jupyter-widgets/controls",
          "model_name": "HBoxModel",
          "state": {
            "_view_name": "HBoxView",
            "_dom_classes": [],
            "_model_name": "HBoxModel",
            "_view_module": "@jupyter-widgets/controls",
            "_model_module_version": "1.5.0",
            "_view_count": null,
            "_view_module_version": "1.5.0",
            "box_style": "",
            "layout": "IPY_MODEL_97d3653e531b48c68f9ad21e598e20cb",
            "_model_module": "@jupyter-widgets/controls",
            "children": [
              "IPY_MODEL_6c1af19cadc346c8baa3c5b1393b1c47",
              "IPY_MODEL_2dc3009b19d1466ab344c28b4ba0fc8a"
            ]
          }
        },
        "97d3653e531b48c68f9ad21e598e20cb": {
          "model_module": "@jupyter-widgets/base",
          "model_name": "LayoutModel",
          "state": {
            "_view_name": "LayoutView",
            "grid_template_rows": null,
            "right": null,
            "justify_content": null,
            "_view_module": "@jupyter-widgets/base",
            "overflow": null,
            "_model_module_version": "1.2.0",
            "_view_count": null,
            "flex_flow": null,
            "width": null,
            "min_width": null,
            "border": null,
            "align_items": null,
            "bottom": null,
            "_model_module": "@jupyter-widgets/base",
            "top": null,
            "grid_column": null,
            "overflow_y": null,
            "overflow_x": null,
            "grid_auto_flow": null,
            "grid_area": null,
            "grid_template_columns": null,
            "flex": null,
            "_model_name": "LayoutModel",
            "justify_items": null,
            "grid_row": null,
            "max_height": null,
            "align_content": null,
            "visibility": null,
            "align_self": null,
            "height": null,
            "min_height": null,
            "padding": null,
            "grid_auto_rows": null,
            "grid_gap": null,
            "max_width": null,
            "order": null,
            "_view_module_version": "1.2.0",
            "grid_template_areas": null,
            "object_position": null,
            "object_fit": null,
            "grid_auto_columns": null,
            "margin": null,
            "display": null,
            "left": null
          }
        },
        "6c1af19cadc346c8baa3c5b1393b1c47": {
          "model_module": "@jupyter-widgets/controls",
          "model_name": "IntProgressModel",
          "state": {
            "_view_name": "ProgressView",
            "style": "IPY_MODEL_13bf7a27e886489aa6f27e17c47e977b",
            "_dom_classes": [],
            "description": "",
            "_model_name": "IntProgressModel",
            "bar_style": "info",
            "max": 1,
            "_view_module": "@jupyter-widgets/controls",
            "_model_module_version": "1.5.0",
            "value": 1,
            "_view_count": null,
            "_view_module_version": "1.5.0",
            "orientation": "horizontal",
            "min": 0,
            "description_tooltip": null,
            "_model_module": "@jupyter-widgets/controls",
            "layout": "IPY_MODEL_7f371f86ac6e495d8f81cf1c34556621"
          }
        },
        "2dc3009b19d1466ab344c28b4ba0fc8a": {
          "model_module": "@jupyter-widgets/controls",
          "model_name": "HTMLModel",
          "state": {
            "_view_name": "HTMLView",
            "style": "IPY_MODEL_0998d190fc9542d9a70e496cd4a66771",
            "_dom_classes": [],
            "description": "",
            "_model_name": "HTMLModel",
            "placeholder": "​",
            "_view_module": "@jupyter-widgets/controls",
            "_model_module_version": "1.5.0",
            "value": " 170500096/? [00:20&lt;00:00, 84856306.82it/s]",
            "_view_count": null,
            "_view_module_version": "1.5.0",
            "description_tooltip": null,
            "_model_module": "@jupyter-widgets/controls",
            "layout": "IPY_MODEL_f5f3820c08ab4a64aea88a3ffc7445c2"
          }
        },
        "13bf7a27e886489aa6f27e17c47e977b": {
          "model_module": "@jupyter-widgets/controls",
          "model_name": "ProgressStyleModel",
          "state": {
            "_view_name": "StyleView",
            "_model_name": "ProgressStyleModel",
            "description_width": "initial",
            "_view_module": "@jupyter-widgets/base",
            "_model_module_version": "1.5.0",
            "_view_count": null,
            "_view_module_version": "1.2.0",
            "bar_color": null,
            "_model_module": "@jupyter-widgets/controls"
          }
        },
        "7f371f86ac6e495d8f81cf1c34556621": {
          "model_module": "@jupyter-widgets/base",
          "model_name": "LayoutModel",
          "state": {
            "_view_name": "LayoutView",
            "grid_template_rows": null,
            "right": null,
            "justify_content": null,
            "_view_module": "@jupyter-widgets/base",
            "overflow": null,
            "_model_module_version": "1.2.0",
            "_view_count": null,
            "flex_flow": null,
            "width": null,
            "min_width": null,
            "border": null,
            "align_items": null,
            "bottom": null,
            "_model_module": "@jupyter-widgets/base",
            "top": null,
            "grid_column": null,
            "overflow_y": null,
            "overflow_x": null,
            "grid_auto_flow": null,
            "grid_area": null,
            "grid_template_columns": null,
            "flex": null,
            "_model_name": "LayoutModel",
            "justify_items": null,
            "grid_row": null,
            "max_height": null,
            "align_content": null,
            "visibility": null,
            "align_self": null,
            "height": null,
            "min_height": null,
            "padding": null,
            "grid_auto_rows": null,
            "grid_gap": null,
            "max_width": null,
            "order": null,
            "_view_module_version": "1.2.0",
            "grid_template_areas": null,
            "object_position": null,
            "object_fit": null,
            "grid_auto_columns": null,
            "margin": null,
            "display": null,
            "left": null
          }
        },
        "0998d190fc9542d9a70e496cd4a66771": {
          "model_module": "@jupyter-widgets/controls",
          "model_name": "DescriptionStyleModel",
          "state": {
            "_view_name": "StyleView",
            "_model_name": "DescriptionStyleModel",
            "description_width": "",
            "_view_module": "@jupyter-widgets/base",
            "_model_module_version": "1.5.0",
            "_view_count": null,
            "_view_module_version": "1.2.0",
            "_model_module": "@jupyter-widgets/controls"
          }
        },
        "f5f3820c08ab4a64aea88a3ffc7445c2": {
          "model_module": "@jupyter-widgets/base",
          "model_name": "LayoutModel",
          "state": {
            "_view_name": "LayoutView",
            "grid_template_rows": null,
            "right": null,
            "justify_content": null,
            "_view_module": "@jupyter-widgets/base",
            "overflow": null,
            "_model_module_version": "1.2.0",
            "_view_count": null,
            "flex_flow": null,
            "width": null,
            "min_width": null,
            "border": null,
            "align_items": null,
            "bottom": null,
            "_model_module": "@jupyter-widgets/base",
            "top": null,
            "grid_column": null,
            "overflow_y": null,
            "overflow_x": null,
            "grid_auto_flow": null,
            "grid_area": null,
            "grid_template_columns": null,
            "flex": null,
            "_model_name": "LayoutModel",
            "justify_items": null,
            "grid_row": null,
            "max_height": null,
            "align_content": null,
            "visibility": null,
            "align_self": null,
            "height": null,
            "min_height": null,
            "padding": null,
            "grid_auto_rows": null,
            "grid_gap": null,
            "max_width": null,
            "order": null,
            "_view_module_version": "1.2.0",
            "grid_template_areas": null,
            "object_position": null,
            "object_fit": null,
            "grid_auto_columns": null,
            "margin": null,
            "display": null,
            "left": null
          }
        }
      }
    }
  },
  "cells": [
    {
      "cell_type": "code",
      "metadata": {
        "colab_type": "code",
        "id": "Iz57W9HJtSz2",
        "outputId": "74ee29c3-a6b0-43ab-93b5-592ea6064597",
        "colab": {
          "base_uri": "https://localhost:8080/",
          "height": 35
        }
      },
      "source": [
        "from google.colab import drive\n",
        "drive.mount('/content/drive')"
      ],
      "execution_count": 0,
      "outputs": [
        {
          "output_type": "stream",
          "text": [
            "Drive already mounted at /content/drive; to attempt to forcibly remount, call drive.mount(\"/content/drive\", force_remount=True).\n"
          ],
          "name": "stdout"
        }
      ]
    },
    {
      "cell_type": "code",
      "metadata": {
        "id": "Y4b1qhnzy7iZ",
        "colab_type": "code",
        "colab": {}
      },
      "source": [
        "import os\n",
        "os.chdir('/content/drive/My Drive/Mobilenet')"
      ],
      "execution_count": 0,
      "outputs": []
    },
    {
      "cell_type": "code",
      "metadata": {
        "colab_type": "code",
        "id": "-44rEK2ZNvcu",
        "colab": {}
      },
      "source": [
        "#Importing Required libraries\n",
        "\n",
        "import torch\n",
        "import torch.nn as nn\n",
        "import torch.optim as optim\n",
        "import torch.nn.functional as F\n",
        "import torch.backends.cudnn as cudnn\n",
        "import torchvision\n",
        "import torchvision.transforms as transforms\n",
        "import os\n",
        "import argparse"
      ],
      "execution_count": 0,
      "outputs": []
    },
    {
      "cell_type": "code",
      "metadata": {
        "colab_type": "code",
        "id": "rk5_b1XcNvkE",
        "colab": {}
      },
      "source": [
        "#Setting the device\n",
        "\n",
        "device = 'cuda' if torch.cuda.is_available() else 'cpu'\n",
        "\n",
        "best_acc = 0  # best test accuracy\n",
        "start_epoch = 0  # start from epoch 0 or last checkpoint epoch"
      ],
      "execution_count": 0,
      "outputs": []
    },
    {
      "cell_type": "code",
      "metadata": {
        "colab_type": "code",
        "id": "RsdLASpzNvuY",
        "outputId": "f2a3f6c6-3501-4756-f6de-d449834e9ff8",
        "colab": {
          "base_uri": "https://localhost:8080/",
          "height": 119,
          "referenced_widgets": [
            "9716f2c04b5c4fb3b598be394d8ca0cb",
            "97d3653e531b48c68f9ad21e598e20cb",
            "6c1af19cadc346c8baa3c5b1393b1c47",
            "2dc3009b19d1466ab344c28b4ba0fc8a",
            "13bf7a27e886489aa6f27e17c47e977b",
            "7f371f86ac6e495d8f81cf1c34556621",
            "0998d190fc9542d9a70e496cd4a66771",
            "f5f3820c08ab4a64aea88a3ffc7445c2"
          ]
        }
      },
      "source": [
        "#Augmentations on the imput images\n",
        "\n",
        "print('==> Preparing data..')\n",
        "transform_train = transforms.Compose([\n",
        "    transforms.RandomCrop(32, padding=4),\n",
        "    transforms.RandomHorizontalFlip(),\n",
        "    transforms.RandomCrop(32),\n",
        "    #transforms.ColorJitter(brightness=1, contrast=0, saturation=0, hue=0),\n",
        "    #transforms.RandomRotation(degrees=[-10,10], resample=False, expand=False, center=None, fill=0),\n",
        "    transforms.ToTensor(),\n",
        "    transforms.Normalize((0.4914, 0.4822, 0.4465), (0.2023, 0.1994, 0.2010)),\n",
        "])\n",
        "\n",
        "transform_test = transforms.Compose([\n",
        "    transforms.ToTensor(),\n",
        "    transforms.Normalize((0.4914, 0.4822, 0.4465), (0.2023, 0.1994, 0.2010)),\n",
        "])\n",
        "\n",
        "trainset = torchvision.datasets.CIFAR10(root='./data', train=True, download=True, transform=transform_train)\n",
        "trainloader = torch.utils.data.DataLoader(trainset, batch_size=100, shuffle=True, num_workers=2)\n",
        "\n",
        "testset = torchvision.datasets.CIFAR10(root='./data', train=False, download=True, transform=transform_test)\n",
        "testloader = torch.utils.data.DataLoader(testset, batch_size=100, shuffle=False, num_workers=2)\n",
        "\n",
        "classes = ('plane', 'car', 'bird', 'cat', 'deer', 'dog', 'frog', 'horse', 'ship', 'truck')"
      ],
      "execution_count": 0,
      "outputs": [
        {
          "output_type": "stream",
          "text": [
            "==> Preparing data..\n",
            "Downloading https://www.cs.toronto.edu/~kriz/cifar-10-python.tar.gz to ./data/cifar-10-python.tar.gz\n"
          ],
          "name": "stdout"
        },
        {
          "output_type": "display_data",
          "data": {
            "application/vnd.jupyter.widget-view+json": {
              "model_id": "9716f2c04b5c4fb3b598be394d8ca0cb",
              "version_minor": 0,
              "version_major": 2
            },
            "text/plain": [
              "HBox(children=(IntProgress(value=1, bar_style='info', max=1), HTML(value='')))"
            ]
          },
          "metadata": {
            "tags": []
          }
        },
        {
          "output_type": "stream",
          "text": [
            "Extracting ./data/cifar-10-python.tar.gz to ./data\n",
            "Files already downloaded and verified\n"
          ],
          "name": "stdout"
        }
      ]
    },
    {
      "cell_type": "code",
      "metadata": {
        "colab_type": "code",
        "id": "bPo68W5xNvzu",
        "outputId": "6ff8f3dd-93da-4a42-a6d6-b0e4bd4f05e6",
        "colab": {
          "base_uri": "https://localhost:8080/",
          "height": 304
        }
      },
      "source": [
        "import matplotlib.pyplot as plt\n",
        "import numpy as np\n",
        "\n",
        "# functions to show an image\n",
        "\n",
        "\n",
        "def imshow(img):\n",
        "    img = img / 2 + 0.5     # unnormalize\n",
        "    npimg = img.numpy()\n",
        "    plt.imshow(np.transpose(npimg, (1, 2, 0)))\n",
        "\n",
        "\n",
        "# get some random training images\n",
        "dataiter = iter(trainloader)\n",
        "images, labels = dataiter.next()\n",
        "\n",
        "# show images\n",
        "imshow(torchvision.utils.make_grid(images))\n",
        "# print labels\n",
        "print(' '.join('%5s' % classes[labels[j]] for j in range(4)))"
      ],
      "execution_count": 0,
      "outputs": [
        {
          "output_type": "stream",
          "text": [
            "Clipping input data to the valid range for imshow with RGB data ([0..1] for floats or [0..255] for integers).\n"
          ],
          "name": "stderr"
        },
        {
          "output_type": "stream",
          "text": [
            "horse truck truck plane\n"
          ],
          "name": "stdout"
        },
        {
          "output_type": "display_data",
          "data": {
            "image/png": "[encoded data removed]",
            "text/plain": [
              "<Figure size 432x288 with 1 Axes>"
            ]
          },
          "metadata": {
            "tags": [],
            "needs_background": "light"
          }
        }
      ]
    },
    {
      "cell_type": "code",
      "metadata": {
        "colab_type": "code",
        "id": "Tfs2NGq3NvtL",
        "colab": {}
      },
      "source": [
        "class Block(nn.Module):\n",
        "    '''Depthwise conv + Pointwise conv'''\n",
        "    def __init__(self, in_planes, out_planes, stride=1):\n",
        "        super(Block, self).__init__()\n",
        "        self.conv1 = nn.Conv2d(in_planes, in_planes, kernel_size=3, stride=stride, padding=1, groups=in_planes, bias=False)\n",
        "        self.bn1 = nn.BatchNorm2d(in_planes)\n",
        "        self.conv2 = nn.Conv2d(in_planes, out_planes, kernel_size=1, stride=1, padding=0, bias=False)\n",
        "        self.bn2 = nn.BatchNorm2d(out_planes)\n",
        "\n",
        "    def forward(self, x):\n",
        "        out = F.relu(self.bn1(self.conv1(x)))\n",
        "        out = F.relu(self.bn2(self.conv2(out)))\n",
        "        return out\n",
        "\n",
        "\n",
        "class MobileNet(nn.Module):\n",
        "    # (128,2) means conv planes=128, conv stride=2, by default conv stride=1\n",
        "    cfg = [64, (128,2), 128, (256,2), 256, (512,2), 512,512, (1024,2), 1024]  #change the depth of convolution.(Removed 3X512)\n",
        "\n",
        "    def __init__(self, num_classes=10):\n",
        "        super(MobileNet, self).__init__()\n",
        "        self.conv1 = nn.Conv2d(3, 32, kernel_size=3, stride=1, padding=1, bias=False)\n",
        "        self.bn1 = nn.BatchNorm2d(32)\n",
        "        self.layers = self._make_layers(in_planes=32)\n",
        "        self.linear = nn.Linear(1024, num_classes)\n",
        "\n",
        "    def _make_layers(self, in_planes):\n",
        "        layers = []\n",
        "        for x in self.cfg:\n",
        "            out_planes = x if isinstance(x, int) else x[0]\n",
        "            stride = 1 if isinstance(x, int) else x[1]\n",
        "            layers.append(Block(in_planes, out_planes, stride))\n",
        "            in_planes = out_planes\n",
        "        return nn.Sequential(*layers)\n",
        "\n",
        "    def forward(self, x):\n",
        "        out = F.relu(self.bn1(self.conv1(x)))\n",
        "        out = self.layers(out)\n",
        "        out = F.avg_pool2d(out, 2)\n",
        "        out = out.view(out.size(0), -1)\n",
        "        out = self.linear(out)\n",
        "        return out\n",
        "\n",
        "net = MobileNet()\n"
      ],
      "execution_count": 0,
      "outputs": []
    },
    {
      "cell_type": "code",
      "metadata": {
        "colab_type": "code",
        "id": "ijA4rRZ0Nvn3",
        "colab": {}
      },
      "source": [
        "#Setting the model on cuda\n",
        "\n",
        "if torch.cuda.is_available():\n",
        "    net.cuda()\n",
        "\n",
        "criterion = nn.CrossEntropyLoss()\n",
        "optimizer = optim.SGD(net.parameters(), lr=0.01, momentum=0.9, weight_decay=5e-4)"
      ],
      "execution_count": 0,
      "outputs": []
    },
    {
      "cell_type": "code",
      "metadata": {
        "colab_type": "code",
        "id": "jXbnrzUTNvhz",
        "colab": {}
      },
      "source": [
        "#Training the model\n",
        "\n",
        "def train(epoch):\n",
        "    print('\\nEpoch: %d' % epoch)\n",
        "    net.train()\n",
        "    train_loss = 0\n",
        "    correct = 0\n",
        "    total = 0\n",
        "    for batch_idx, (inputs, targets) in enumerate(trainloader):\n",
        "        inputs, targets = inputs.to(device), targets.to(device)\n",
        "        optimizer.zero_grad()\n",
        "        outputs = net(inputs)\n",
        "        loss = criterion(outputs, targets)\n",
        "        loss.backward()\n",
        "        optimizer.step()\n",
        "\n",
        "        train_loss += loss.item()\n",
        "        _, predicted = outputs.max(1)\n",
        "        total += targets.size(0)\n",
        "        correct += predicted.eq(targets).sum().item()\n",
        "\n",
        "    print(batch_idx, len(trainloader), 'Loss: %.3f | Acc: %.3f%% (%d/%d)'\n",
        "        % (train_loss/(batch_idx+1), 100.*correct/total, correct, total))"
      ],
      "execution_count": 0,
      "outputs": []
    },
    {
      "cell_type": "code",
      "metadata": {
        "colab_type": "code",
        "id": "ezt84sslNvgh",
        "colab": {}
      },
      "source": [
        "#Testing the model\n",
        "\n",
        "def test(epoch):\n",
        "    global best_acc\n",
        "    net.eval()\n",
        "    test_loss = 0\n",
        "    correct = 0\n",
        "    total = 0\n",
        "    with torch.no_grad():\n",
        "        for batch_idx, (inputs, targets) in enumerate(testloader):\n",
        "            inputs, targets = inputs.to(device), targets.to(device)\n",
        "            outputs = net(inputs)\n",
        "            loss = criterion(outputs, targets)\n",
        "\n",
        "            test_loss += loss.item()\n",
        "            _, predicted = outputs.max(1)\n",
        "            total += targets.size(0)\n",
        "            correct += predicted.eq(targets).sum().item()\n",
        "\n",
        "        print(batch_idx, len(testloader), 'Loss: %.3f | Acc: %.3f%% (%d/%d)'\n",
        "             % (test_loss/(batch_idx+1), 100.*correct/total, correct, total))\n",
        "  # Save checkpoint.\n",
        "    acc = 100.*correct/total\n",
        "    if acc > best_acc:\n",
        "        print('Saving..')\n",
        "        state = {\n",
        "            'net': net.state_dict(),\n",
        "            'acc': acc,\n",
        "            'epoch': epoch,\n",
        "        }\n",
        "        if not os.path.isdir('checkpoint'):\n",
        "            os.mkdir('checkpoint')\n",
        "        torch.save(state, './checkpoint/ckpt.pth')\n",
        "        torch.save(net, './checkpoint/net.pth')\n",
        "        best_acc = acc\n"
      ],
      "execution_count": 0,
      "outputs": []
    },
    {
      "cell_type": "markdown",
      "metadata": {
        "colab_type": "text",
        "id": "ZSU0t7Yiphfn"
      },
      "source": [
        ""
      ]
    },
    {
      "cell_type": "code",
      "metadata": {
        "colab_type": "code",
        "id": "di8G3-uBNvbR",
        "outputId": "1c3aa478-404d-409a-ef6e-71bc1c229b53",
        "colab": {
          "base_uri": "https://localhost:8080/",
          "height": 1000
        }
      },
      "source": [
        "#Implementing Train and Test for 30 epochs\n",
        "\n",
        "for epoch in range(start_epoch, start_epoch+80):\n",
        "    train(epoch)\n",
        "    test(epoch)"
      ],
      "execution_count": 0,
      "outputs": [
        {
          "output_type": "stream",
          "text": [
            "\n",
            "Epoch: 0\n",
            "499 500 Loss: 1.755 | Acc: 34.210% (17105/50000)\n",
            "99 100 Loss: 1.511 | Acc: 45.220% (4522/10000)\n",
            "Saving..\n",
            "\n",
            "Epoch: 1\n"
          ],
          "name": "stdout"
        },
        {
          "output_type": "stream",
          "text": [
            "/usr/local/lib/python3.6/dist-packages/torch/serialization.py:360: UserWarning: Couldn't retrieve source code for container of type MobileNet. It won't be checked for correctness upon loading.\n",
            "  \"type \" + obj.__name__ + \". It won't be checked \"\n",
            "/usr/local/lib/python3.6/dist-packages/torch/serialization.py:360: UserWarning: Couldn't retrieve source code for container of type Block. It won't be checked for correctness upon loading.\n",
            "  \"type \" + obj.__name__ + \". It won't be checked \"\n"
          ],
          "name": "stderr"
        },
        {
          "output_type": "stream",
          "text": [
            "499 500 Loss: 1.418 | Acc: 48.186% (24093/50000)\n",
            "99 100 Loss: 1.285 | Acc: 54.060% (5406/10000)\n",
            "Saving..\n",
            "\n",
            "Epoch: 2\n",
            "499 500 Loss: 1.238 | Acc: 55.370% (27685/50000)\n",
            "99 100 Loss: 1.080 | Acc: 61.120% (6112/10000)\n",
            "Saving..\n",
            "\n",
            "Epoch: 3\n",
            "499 500 Loss: 1.091 | Acc: 61.062% (30531/50000)\n",
            "99 100 Loss: 0.974 | Acc: 65.930% (6593/10000)\n",
            "Saving..\n",
            "\n",
            "Epoch: 4\n",
            "499 500 Loss: 0.957 | Acc: 66.074% (33037/50000)\n",
            "99 100 Loss: 0.861 | Acc: 69.720% (6972/10000)\n",
            "Saving..\n",
            "\n",
            "Epoch: 5\n",
            "499 500 Loss: 0.837 | Acc: 70.398% (35199/50000)\n",
            "99 100 Loss: 0.775 | Acc: 72.940% (7294/10000)\n",
            "Saving..\n",
            "\n",
            "Epoch: 6\n",
            "499 500 Loss: 0.754 | Acc: 73.512% (36756/50000)\n",
            "99 100 Loss: 0.713 | Acc: 74.960% (7496/10000)\n",
            "Saving..\n",
            "\n",
            "Epoch: 7\n",
            "499 500 Loss: 0.692 | Acc: 75.536% (37768/50000)\n",
            "99 100 Loss: 0.660 | Acc: 77.380% (7738/10000)\n",
            "Saving..\n",
            "\n",
            "Epoch: 8\n",
            "499 500 Loss: 0.638 | Acc: 77.658% (38829/50000)\n",
            "99 100 Loss: 0.621 | Acc: 78.780% (7878/10000)\n",
            "Saving..\n",
            "\n",
            "Epoch: 9\n",
            "499 500 Loss: 0.596 | Acc: 79.004% (39502/50000)\n",
            "99 100 Loss: 0.588 | Acc: 79.570% (7957/10000)\n",
            "Saving..\n",
            "\n",
            "Epoch: 10\n",
            "499 500 Loss: 0.556 | Acc: 80.622% (40311/50000)\n",
            "99 100 Loss: 0.544 | Acc: 81.150% (8115/10000)\n",
            "Saving..\n",
            "\n",
            "Epoch: 11\n",
            "499 500 Loss: 0.525 | Acc: 81.772% (40886/50000)\n",
            "99 100 Loss: 0.539 | Acc: 81.800% (8180/10000)\n",
            "Saving..\n",
            "\n",
            "Epoch: 12\n",
            "499 500 Loss: 0.502 | Acc: 82.396% (41198/50000)\n",
            "99 100 Loss: 0.541 | Acc: 81.280% (8128/10000)\n",
            "\n",
            "Epoch: 13\n",
            "499 500 Loss: 0.481 | Acc: 83.200% (41600/50000)\n",
            "99 100 Loss: 0.528 | Acc: 81.980% (8198/10000)\n",
            "Saving..\n",
            "\n",
            "Epoch: 14\n",
            "499 500 Loss: 0.456 | Acc: 84.022% (42011/50000)\n",
            "99 100 Loss: 0.520 | Acc: 82.450% (8245/10000)\n",
            "Saving..\n",
            "\n",
            "Epoch: 15\n",
            "499 500 Loss: 0.436 | Acc: 84.748% (42374/50000)\n",
            "99 100 Loss: 0.523 | Acc: 82.530% (8253/10000)\n",
            "Saving..\n",
            "\n",
            "Epoch: 16\n",
            "499 500 Loss: 0.423 | Acc: 85.172% (42586/50000)\n",
            "99 100 Loss: 0.484 | Acc: 84.110% (8411/10000)\n",
            "Saving..\n",
            "\n",
            "Epoch: 17\n",
            "499 500 Loss: 0.405 | Acc: 85.870% (42935/50000)\n",
            "99 100 Loss: 0.488 | Acc: 83.460% (8346/10000)\n",
            "\n",
            "Epoch: 18\n",
            "499 500 Loss: 0.392 | Acc: 86.244% (43122/50000)\n",
            "99 100 Loss: 0.483 | Acc: 83.700% (8370/10000)\n",
            "\n",
            "Epoch: 19\n",
            "499 500 Loss: 0.380 | Acc: 86.524% (43262/50000)\n",
            "99 100 Loss: 0.482 | Acc: 83.680% (8368/10000)\n",
            "\n",
            "Epoch: 20\n",
            "499 500 Loss: 0.365 | Acc: 87.098% (43549/50000)\n",
            "99 100 Loss: 0.470 | Acc: 84.390% (8439/10000)\n",
            "Saving..\n",
            "\n",
            "Epoch: 21\n",
            "499 500 Loss: 0.355 | Acc: 87.690% (43845/50000)\n",
            "99 100 Loss: 0.444 | Acc: 85.060% (8506/10000)\n",
            "Saving..\n",
            "\n",
            "Epoch: 22\n",
            "499 500 Loss: 0.346 | Acc: 87.846% (43923/50000)\n",
            "99 100 Loss: 0.450 | Acc: 84.760% (8476/10000)\n",
            "\n",
            "Epoch: 23\n",
            "499 500 Loss: 0.335 | Acc: 88.030% (44015/50000)\n",
            "99 100 Loss: 0.456 | Acc: 84.730% (8473/10000)\n",
            "\n",
            "Epoch: 24\n",
            "499 500 Loss: 0.330 | Acc: 88.490% (44245/50000)\n",
            "99 100 Loss: 0.419 | Acc: 85.890% (8589/10000)\n",
            "Saving..\n",
            "\n",
            "Epoch: 25\n",
            "499 500 Loss: 0.314 | Acc: 89.086% (44543/50000)\n",
            "99 100 Loss: 0.447 | Acc: 84.990% (8499/10000)\n",
            "\n",
            "Epoch: 26\n",
            "499 500 Loss: 0.308 | Acc: 89.104% (44552/50000)\n",
            "99 100 Loss: 0.429 | Acc: 85.650% (8565/10000)\n",
            "\n",
            "Epoch: 27\n",
            "499 500 Loss: 0.306 | Acc: 89.156% (44578/50000)\n",
            "99 100 Loss: 0.445 | Acc: 85.330% (8533/10000)\n",
            "\n",
            "Epoch: 28\n",
            "499 500 Loss: 0.300 | Acc: 89.586% (44793/50000)\n",
            "99 100 Loss: 0.420 | Acc: 85.960% (8596/10000)\n",
            "Saving..\n",
            "\n",
            "Epoch: 29\n",
            "499 500 Loss: 0.293 | Acc: 89.754% (44877/50000)\n",
            "99 100 Loss: 0.404 | Acc: 86.590% (8659/10000)\n",
            "Saving..\n",
            "\n",
            "Epoch: 30\n",
            "499 500 Loss: 0.283 | Acc: 89.982% (44991/50000)\n",
            "99 100 Loss: 0.402 | Acc: 86.760% (8676/10000)\n",
            "Saving..\n",
            "\n",
            "Epoch: 31\n",
            "499 500 Loss: 0.280 | Acc: 90.126% (45063/50000)\n",
            "99 100 Loss: 0.434 | Acc: 85.720% (8572/10000)\n",
            "\n",
            "Epoch: 32\n",
            "499 500 Loss: 0.274 | Acc: 90.286% (45143/50000)\n",
            "99 100 Loss: 0.406 | Acc: 86.660% (8666/10000)\n",
            "\n",
            "Epoch: 33\n",
            "499 500 Loss: 0.273 | Acc: 90.538% (45269/50000)\n",
            "99 100 Loss: 0.415 | Acc: 86.570% (8657/10000)\n",
            "\n",
            "Epoch: 34\n",
            "499 500 Loss: 0.262 | Acc: 90.704% (45352/50000)\n",
            "99 100 Loss: 0.403 | Acc: 86.850% (8685/10000)\n",
            "Saving..\n",
            "\n",
            "Epoch: 35\n",
            "499 500 Loss: 0.256 | Acc: 91.062% (45531/50000)\n",
            "99 100 Loss: 0.427 | Acc: 86.270% (8627/10000)\n",
            "\n",
            "Epoch: 36\n",
            "499 500 Loss: 0.251 | Acc: 91.178% (45589/50000)\n",
            "99 100 Loss: 0.400 | Acc: 86.840% (8684/10000)\n",
            "\n",
            "Epoch: 37\n",
            "499 500 Loss: 0.248 | Acc: 91.332% (45666/50000)\n",
            "99 100 Loss: 0.412 | Acc: 86.740% (8674/10000)\n",
            "\n",
            "Epoch: 38\n",
            "499 500 Loss: 0.249 | Acc: 91.166% (45583/50000)\n",
            "99 100 Loss: 0.400 | Acc: 86.830% (8683/10000)\n",
            "\n",
            "Epoch: 39\n",
            "499 500 Loss: 0.241 | Acc: 91.522% (45761/50000)\n",
            "99 100 Loss: 0.424 | Acc: 86.600% (8660/10000)\n",
            "\n",
            "Epoch: 40\n",
            "499 500 Loss: 0.239 | Acc: 91.464% (45732/50000)\n",
            "99 100 Loss: 0.427 | Acc: 86.330% (8633/10000)\n",
            "\n",
            "Epoch: 41\n",
            "499 500 Loss: 0.238 | Acc: 91.556% (45778/50000)\n",
            "99 100 Loss: 0.401 | Acc: 86.970% (8697/10000)\n",
            "Saving..\n",
            "\n",
            "Epoch: 42\n",
            "499 500 Loss: 0.232 | Acc: 91.882% (45941/50000)\n",
            "99 100 Loss: 0.433 | Acc: 86.320% (8632/10000)\n",
            "\n",
            "Epoch: 43\n",
            "499 500 Loss: 0.231 | Acc: 91.746% (45873/50000)\n",
            "99 100 Loss: 0.411 | Acc: 86.570% (8657/10000)\n",
            "\n",
            "Epoch: 44\n",
            "499 500 Loss: 0.228 | Acc: 91.946% (45973/50000)\n",
            "99 100 Loss: 0.402 | Acc: 87.090% (8709/10000)\n",
            "Saving..\n",
            "\n",
            "Epoch: 45\n",
            "499 500 Loss: 0.225 | Acc: 92.066% (46033/50000)\n",
            "99 100 Loss: 0.386 | Acc: 87.510% (8751/10000)\n",
            "Saving..\n",
            "\n",
            "Epoch: 46\n",
            "499 500 Loss: 0.223 | Acc: 92.180% (46090/50000)\n",
            "99 100 Loss: 0.386 | Acc: 87.520% (8752/10000)\n",
            "Saving..\n",
            "\n",
            "Epoch: 47\n",
            "499 500 Loss: 0.225 | Acc: 92.026% (46013/50000)\n",
            "99 100 Loss: 0.373 | Acc: 87.570% (8757/10000)\n",
            "Saving..\n",
            "\n",
            "Epoch: 48\n",
            "499 500 Loss: 0.218 | Acc: 92.274% (46137/50000)\n",
            "99 100 Loss: 0.390 | Acc: 87.560% (8756/10000)\n",
            "\n",
            "Epoch: 49\n",
            "499 500 Loss: 0.214 | Acc: 92.438% (46219/50000)\n",
            "99 100 Loss: 0.386 | Acc: 87.600% (8760/10000)\n",
            "Saving..\n",
            "\n",
            "Epoch: 50\n",
            "499 500 Loss: 0.217 | Acc: 92.354% (46177/50000)\n",
            "99 100 Loss: 0.393 | Acc: 87.480% (8748/10000)\n",
            "\n",
            "Epoch: 51\n",
            "499 500 Loss: 0.212 | Acc: 92.558% (46279/50000)\n",
            "99 100 Loss: 0.368 | Acc: 87.870% (8787/10000)\n",
            "Saving..\n",
            "\n",
            "Epoch: 52\n",
            "499 500 Loss: 0.207 | Acc: 92.662% (46331/50000)\n",
            "99 100 Loss: 0.384 | Acc: 88.010% (8801/10000)\n",
            "Saving..\n",
            "\n",
            "Epoch: 53\n",
            "499 500 Loss: 0.208 | Acc: 92.590% (46295/50000)\n",
            "99 100 Loss: 0.381 | Acc: 87.630% (8763/10000)\n",
            "\n",
            "Epoch: 54\n",
            "499 500 Loss: 0.206 | Acc: 92.700% (46350/50000)\n",
            "99 100 Loss: 0.399 | Acc: 87.220% (8722/10000)\n",
            "\n",
            "Epoch: 55\n",
            "499 500 Loss: 0.203 | Acc: 92.784% (46392/50000)\n",
            "99 100 Loss: 0.380 | Acc: 87.790% (8779/10000)\n",
            "\n",
            "Epoch: 56\n",
            "499 500 Loss: 0.203 | Acc: 92.726% (46363/50000)\n",
            "99 100 Loss: 0.384 | Acc: 87.690% (8769/10000)\n",
            "\n",
            "Epoch: 57\n",
            "499 500 Loss: 0.194 | Acc: 93.218% (46609/50000)\n",
            "99 100 Loss: 0.418 | Acc: 86.920% (8692/10000)\n",
            "\n",
            "Epoch: 58\n",
            "499 500 Loss: 0.200 | Acc: 92.894% (46447/50000)\n",
            "99 100 Loss: 0.378 | Acc: 87.930% (8793/10000)\n",
            "\n",
            "Epoch: 59\n",
            "499 500 Loss: 0.202 | Acc: 92.992% (46496/50000)\n",
            "99 100 Loss: 0.366 | Acc: 88.270% (8827/10000)\n",
            "Saving..\n",
            "\n",
            "Epoch: 60\n",
            "499 500 Loss: 0.196 | Acc: 93.134% (46567/50000)\n",
            "99 100 Loss: 0.386 | Acc: 88.000% (8800/10000)\n",
            "\n",
            "Epoch: 61\n",
            "499 500 Loss: 0.187 | Acc: 93.452% (46726/50000)\n",
            "99 100 Loss: 0.388 | Acc: 87.890% (8789/10000)\n",
            "\n",
            "Epoch: 62\n",
            "499 500 Loss: 0.194 | Acc: 93.120% (46560/50000)\n",
            "99 100 Loss: 0.381 | Acc: 87.850% (8785/10000)\n",
            "\n",
            "Epoch: 63\n",
            "499 500 Loss: 0.193 | Acc: 93.214% (46607/50000)\n",
            "99 100 Loss: 0.368 | Acc: 88.610% (8861/10000)\n",
            "Saving..\n",
            "\n",
            "Epoch: 64\n",
            "499 500 Loss: 0.186 | Acc: 93.362% (46681/50000)\n",
            "99 100 Loss: 0.400 | Acc: 87.520% (8752/10000)\n",
            "\n",
            "Epoch: 65\n",
            "499 500 Loss: 0.195 | Acc: 93.164% (46582/50000)\n",
            "99 100 Loss: 0.394 | Acc: 87.690% (8769/10000)\n",
            "\n",
            "Epoch: 66\n",
            "499 500 Loss: 0.188 | Acc: 93.460% (46730/50000)\n",
            "99 100 Loss: 0.383 | Acc: 88.180% (8818/10000)\n",
            "\n",
            "Epoch: 67\n",
            "499 500 Loss: 0.186 | Acc: 93.410% (46705/50000)\n",
            "99 100 Loss: 0.376 | Acc: 88.190% (8819/10000)\n",
            "\n",
            "Epoch: 68\n",
            "499 500 Loss: 0.188 | Acc: 93.476% (46738/50000)\n",
            "99 100 Loss: 0.393 | Acc: 87.890% (8789/10000)\n",
            "\n",
            "Epoch: 69\n",
            "499 500 Loss: 0.181 | Acc: 93.652% (46826/50000)\n",
            "99 100 Loss: 0.402 | Acc: 87.590% (8759/10000)\n",
            "\n",
            "Epoch: 70\n",
            "499 500 Loss: 0.194 | Acc: 93.056% (46528/50000)\n",
            "99 100 Loss: 0.374 | Acc: 88.380% (8838/10000)\n",
            "\n",
            "Epoch: 71\n",
            "499 500 Loss: 0.183 | Acc: 93.578% (46789/50000)\n",
            "99 100 Loss: 0.410 | Acc: 87.150% (8715/10000)\n",
            "\n",
            "Epoch: 72\n",
            "499 500 Loss: 0.186 | Acc: 93.522% (46761/50000)\n",
            "99 100 Loss: 0.397 | Acc: 87.400% (8740/10000)\n",
            "\n",
            "Epoch: 73\n",
            "499 500 Loss: 0.176 | Acc: 93.748% (46874/50000)\n",
            "99 100 Loss: 0.386 | Acc: 87.850% (8785/10000)\n",
            "\n",
            "Epoch: 74\n",
            "499 500 Loss: 0.179 | Acc: 93.672% (46836/50000)\n",
            "99 100 Loss: 0.398 | Acc: 87.360% (8736/10000)\n",
            "\n",
            "Epoch: 75\n",
            "499 500 Loss: 0.177 | Acc: 93.842% (46921/50000)\n",
            "99 100 Loss: 0.379 | Acc: 88.140% (8814/10000)\n",
            "\n",
            "Epoch: 76\n",
            "499 500 Loss: 0.181 | Acc: 93.658% (46829/50000)\n",
            "99 100 Loss: 0.388 | Acc: 88.000% (8800/10000)\n",
            "\n",
            "Epoch: 77\n",
            "499 500 Loss: 0.180 | Acc: 93.572% (46786/50000)\n",
            "99 100 Loss: 0.405 | Acc: 87.110% (8711/10000)\n",
            "\n",
            "Epoch: 78\n",
            "499 500 Loss: 0.173 | Acc: 94.040% (47020/50000)\n",
            "99 100 Loss: 0.380 | Acc: 88.100% (8810/10000)\n",
            "\n",
            "Epoch: 79\n",
            "499 500 Loss: 0.180 | Acc: 93.726% (46863/50000)\n",
            "99 100 Loss: 0.372 | Acc: 88.850% (8885/10000)\n",
            "Saving..\n"
          ],
          "name": "stdout"
        }
      ]
    },
    {
      "cell_type": "code",
      "metadata": {
        "colab_type": "code",
        "id": "YoPwN4zTRrui",
        "colab": {}
      },
      "source": [
        "#Number of Parameters\n",
        "\n",
        "def count_parameters(model):\n",
        "    pytorch_total_params = sum(p.numel() for p in model.parameters())\n",
        "    print(\"Total_params\",pytorch_total_params)\n",
        "    pytorch_total_params = sum(p.numel() for p in model.parameters() if p.requires_grad)\n",
        "    print(\"Trainable_params\",pytorch_total_params)"
      ],
      "execution_count": 0,
      "outputs": []
    },
    {
      "cell_type": "code",
      "metadata": {
        "colab_type": "code",
        "id": "Nkdmuy5ARrrk",
        "outputId": "e9068cbe-a3ee-4987-8fdb-61b9f53b3a9e",
        "colab": {
          "base_uri": "https://localhost:8080/",
          "height": 52
        }
      },
      "source": [
        "count_parameters(net)"
      ],
      "execution_count": 0,
      "outputs": [
        {
          "output_type": "stream",
          "text": [
            "Total_params 2410826\n",
            "Trainable_params 2410826\n"
          ],
          "name": "stdout"
        }
      ]
    },
    {
      "cell_type": "code",
      "metadata": {
        "colab_type": "code",
        "id": "xzDmZ4VORrnW",
        "outputId": "f30114ec-9482-4f1a-de71-23c82eb852fe",
        "colab": {
          "base_uri": "https://localhost:8080/",
          "height": 1000
        }
      },
      "source": [
        "import matplotlib.pyplot as plt\n",
        "import numpy as np\n",
        "\n",
        "def convert_to_imshow_format(image):\n",
        "    # first convert back to [0,1] range from [-1,1] range\n",
        "    image = image / 2 + 0.5\n",
        "    image = image.numpy()\n",
        "    # convert from CHW to HWC\n",
        "    # from 3x32x32 to 32x32x3\n",
        "    return image.transpose(1,2,0)\n",
        "\n",
        "dataiter = iter(trainloader)\n",
        "images, labels = dataiter.next()\n",
        "\n",
        "fig, axes = plt.subplots(1, len(images), figsize=(12,2.5))\n",
        "for idx, image in enumerate(images):\n",
        "    axes[idx].imshow(convert_to_imshow_format(image))\n",
        "    axes[idx].set_title(classes[labels[idx]])\n",
        "    axes[idx].set_xticks([])\n",
        "    axes[idx].set_yticks([])"
      ],
      "execution_count": 0,
      "outputs": [
        {
          "output_type": "stream",
          "text": [
            "Clipping input data to the valid range for imshow with RGB data ([0..1] for floats or [0..255] for integers).\n",
            "Clipping input data to the valid range for imshow with RGB data ([0..1] for floats or [0..255] for integers).\n",
            "Clipping input data to the valid range for imshow with RGB data ([0..1] for floats or [0..255] for integers).\n",
            "Clipping input data to the valid range for imshow with RGB data ([0..1] for floats or [0..255] for integers).\n",
            "Clipping input data to the valid range for imshow with RGB data ([0..1] for floats or [0..255] for integers).\n",
            "Clipping input data to the valid range for imshow with RGB data ([0..1] for floats or [0..255] for integers).\n",
            "Clipping input data to the valid range for imshow with RGB data ([0..1] for floats or [0..255] for integers).\n",
            "Clipping input data to the valid range for imshow with RGB data ([0..1] for floats or [0..255] for integers).\n",
            "Clipping input data to the valid range for imshow with RGB data ([0..1] for floats or [0..255] for integers).\n",
            "Clipping input data to the valid range for imshow with RGB data ([0..1] for floats or [0..255] for integers).\n",
            "Clipping input data to the valid range for imshow with RGB data ([0..1] for floats or [0..255] for integers).\n",
            "Clipping input data to the valid range for imshow with RGB data ([0..1] for floats or [0..255] for integers).\n",
            "Clipping input data to the valid range for imshow with RGB data ([0..1] for floats or [0..255] for integers).\n",
            "Clipping input data to the valid range for imshow with RGB data ([0..1] for floats or [0..255] for integers).\n",
            "Clipping input data to the valid range for imshow with RGB data ([0..1] for floats or [0..255] for integers).\n",
            "Clipping input data to the valid range for imshow with RGB data ([0..1] for floats or [0..255] for integers).\n",
            "Clipping input data to the valid range for imshow with RGB data ([0..1] for floats or [0..255] for integers).\n",
            "Clipping input data to the valid range for imshow with RGB data ([0..1] for floats or [0..255] for integers).\n",
            "Clipping input data to the valid range for imshow with RGB data ([0..1] for floats or [0..255] for integers).\n",
            "Clipping input data to the valid range for imshow with RGB data ([0..1] for floats or [0..255] for integers).\n",
            "Clipping input data to the valid range for imshow with RGB data ([0..1] for floats or [0..255] for integers).\n",
            "Clipping input data to the valid range for imshow with RGB data ([0..1] for floats or [0..255] for integers).\n",
            "Clipping input data to the valid range for imshow with RGB data ([0..1] for floats or [0..255] for integers).\n",
            "Clipping input data to the valid range for imshow with RGB data ([0..1] for floats or [0..255] for integers).\n",
            "Clipping input data to the valid range for imshow with RGB data ([0..1] for floats or [0..255] for integers).\n",
            "Clipping input data to the valid range for imshow with RGB data ([0..1] for floats or [0..255] for integers).\n",
            "Clipping input data to the valid range for imshow with RGB data ([0..1] for floats or [0..255] for integers).\n",
            "Clipping input data to the valid range for imshow with RGB data ([0..1] for floats or [0..255] for integers).\n",
            "Clipping input data to the valid range for imshow with RGB data ([0..1] for floats or [0..255] for integers).\n",
            "Clipping input data to the valid range for imshow with RGB data ([0..1] for floats or [0..255] for integers).\n",
            "Clipping input data to the valid range for imshow with RGB data ([0..1] for floats or [0..255] for integers).\n",
            "Clipping input data to the valid range for imshow with RGB data ([0..1] for floats or [0..255] for integers).\n",
            "Clipping input data to the valid range for imshow with RGB data ([0..1] for floats or [0..255] for integers).\n",
            "Clipping input data to the valid range for imshow with RGB data ([0..1] for floats or [0..255] for integers).\n",
            "Clipping input data to the valid range for imshow with RGB data ([0..1] for floats or [0..255] for integers).\n",
            "Clipping input data to the valid range for imshow with RGB data ([0..1] for floats or [0..255] for integers).\n",
            "Clipping input data to the valid range for imshow with RGB data ([0..1] for floats or [0..255] for integers).\n",
            "Clipping input data to the valid range for imshow with RGB data ([0..1] for floats or [0..255] for integers).\n",
            "Clipping input data to the valid range for imshow with RGB data ([0..1] for floats or [0..255] for integers).\n",
            "Clipping input data to the valid range for imshow with RGB data ([0..1] for floats or [0..255] for integers).\n",
            "Clipping input data to the valid range for imshow with RGB data ([0..1] for floats or [0..255] for integers).\n",
            "Clipping input data to the valid range for imshow with RGB data ([0..1] for floats or [0..255] for integers).\n",
            "Clipping input data to the valid range for imshow with RGB data ([0..1] for floats or [0..255] for integers).\n",
            "Clipping input data to the valid range for imshow with RGB data ([0..1] for floats or [0..255] for integers).\n",
            "Clipping input data to the valid range for imshow with RGB data ([0..1] for floats or [0..255] for integers).\n",
            "Clipping input data to the valid range for imshow with RGB data ([0..1] for floats or [0..255] for integers).\n",
            "Clipping input data to the valid range for imshow with RGB data ([0..1] for floats or [0..255] for integers).\n",
            "Clipping input data to the valid range for imshow with RGB data ([0..1] for floats or [0..255] for integers).\n",
            "Clipping input data to the valid range for imshow with RGB data ([0..1] for floats or [0..255] for integers).\n",
            "Clipping input data to the valid range for imshow with RGB data ([0..1] for floats or [0..255] for integers).\n",
            "Clipping input data to the valid range for imshow with RGB data ([0..1] for floats or [0..255] for integers).\n",
            "Clipping input data to the valid range for imshow with RGB data ([0..1] for floats or [0..255] for integers).\n",
            "Clipping input data to the valid range for imshow with RGB data ([0..1] for floats or [0..255] for integers).\n",
            "Clipping input data to the valid range for imshow with RGB data ([0..1] for floats or [0..255] for integers).\n",
            "Clipping input data to the valid range for imshow with RGB data ([0..1] for floats or [0..255] for integers).\n",
            "Clipping input data to the valid range for imshow with RGB data ([0..1] for floats or [0..255] for integers).\n",
            "Clipping input data to the valid range for imshow with RGB data ([0..1] for floats or [0..255] for integers).\n",
            "Clipping input data to the valid range for imshow with RGB data ([0..1] for floats or [0..255] for integers).\n",
            "Clipping input data to the valid range for imshow with RGB data ([0..1] for floats or [0..255] for integers).\n",
            "Clipping input data to the valid range for imshow with RGB data ([0..1] for floats or [0..255] for integers).\n",
            "Clipping input data to the valid range for imshow with RGB data ([0..1] for floats or [0..255] for integers).\n",
            "Clipping input data to the valid range for imshow with RGB data ([0..1] for floats or [0..255] for integers).\n",
            "Clipping input data to the valid range for imshow with RGB data ([0..1] for floats or [0..255] for integers).\n",
            "Clipping input data to the valid range for imshow with RGB data ([0..1] for floats or [0..255] for integers).\n",
            "Clipping input data to the valid range for imshow with RGB data ([0..1] for floats or [0..255] for integers).\n",
            "Clipping input data to the valid range for imshow with RGB data ([0..1] for floats or [0..255] for integers).\n",
            "Clipping input data to the valid range for imshow with RGB data ([0..1] for floats or [0..255] for integers).\n",
            "Clipping input data to the valid range for imshow with RGB data ([0..1] for floats or [0..255] for integers).\n",
            "Clipping input data to the valid range for imshow with RGB data ([0..1] for floats or [0..255] for integers).\n",
            "Clipping input data to the valid range for imshow with RGB data ([0..1] for floats or [0..255] for integers).\n",
            "Clipping input data to the valid range for imshow with RGB data ([0..1] for floats or [0..255] for integers).\n",
            "Clipping input data to the valid range for imshow with RGB data ([0..1] for floats or [0..255] for integers).\n",
            "Clipping input data to the valid range for imshow with RGB data ([0..1] for floats or [0..255] for integers).\n",
            "Clipping input data to the valid range for imshow with RGB data ([0..1] for floats or [0..255] for integers).\n",
            "Clipping input data to the valid range for imshow with RGB data ([0..1] for floats or [0..255] for integers).\n",
            "Clipping input data to the valid range for imshow with RGB data ([0..1] for floats or [0..255] for integers).\n",
            "Clipping input data to the valid range for imshow with RGB data ([0..1] for floats or [0..255] for integers).\n",
            "Clipping input data to the valid range for imshow with RGB data ([0..1] for floats or [0..255] for integers).\n",
            "Clipping input data to the valid range for imshow with RGB data ([0..1] for floats or [0..255] for integers).\n",
            "Clipping input data to the valid range for imshow with RGB data ([0..1] for floats or [0..255] for integers).\n",
            "Clipping input data to the valid range for imshow with RGB data ([0..1] for floats or [0..255] for integers).\n",
            "Clipping input data to the valid range for imshow with RGB data ([0..1] for floats or [0..255] for integers).\n",
            "Clipping input data to the valid range for imshow with RGB data ([0..1] for floats or [0..255] for integers).\n",
            "Clipping input data to the valid range for imshow with RGB data ([0..1] for floats or [0..255] for integers).\n",
            "Clipping input data to the valid range for imshow with RGB data ([0..1] for floats or [0..255] for integers).\n",
            "Clipping input data to the valid range for imshow with RGB data ([0..1] for floats or [0..255] for integers).\n",
            "Clipping input data to the valid range for imshow with RGB data ([0..1] for floats or [0..255] for integers).\n",
            "Clipping input data to the valid range for imshow with RGB data ([0..1] for floats or [0..255] for integers).\n",
            "Clipping input data to the valid range for imshow with RGB data ([0..1] for floats or [0..255] for integers).\n",
            "Clipping input data to the valid range for imshow with RGB data ([0..1] for floats or [0..255] for integers).\n",
            "Clipping input data to the valid range for imshow with RGB data ([0..1] for floats or [0..255] for integers).\n",
            "Clipping input data to the valid range for imshow with RGB data ([0..1] for floats or [0..255] for integers).\n",
            "Clipping input data to the valid range for imshow with RGB data ([0..1] for floats or [0..255] for integers).\n",
            "Clipping input data to the valid range for imshow with RGB data ([0..1] for floats or [0..255] for integers).\n",
            "Clipping input data to the valid range for imshow with RGB data ([0..1] for floats or [0..255] for integers).\n",
            "Clipping input data to the valid range for imshow with RGB data ([0..1] for floats or [0..255] for integers).\n",
            "Clipping input data to the valid range for imshow with RGB data ([0..1] for floats or [0..255] for integers).\n",
            "Clipping input data to the valid range for imshow with RGB data ([0..1] for floats or [0..255] for integers).\n",
            "Clipping input data to the valid range for imshow with RGB data ([0..1] for floats or [0..255] for integers).\n",
            "Clipping input data to the valid range for imshow with RGB data ([0..1] for floats or [0..255] for integers).\n"
          ],
          "name": "stderr"
        },
        {
          "output_type": "display_data",
          "data": {
            "image/png": "[encoded data removed]",
            "text/plain": [
              "<Figure size 864x180 with 100 Axes>"
            ]
          },
          "metadata": {
            "tags": []
          }
        }
      ]
    },
    {
      "cell_type": "code",
      "metadata": {
        "colab_type": "code",
        "id": "badsotbz8zvN",
        "outputId": "212a6e58-f661-4a44-9795-0c1c3b5924fd",
        "colab": {
          "base_uri": "https://localhost:8080/",
          "height": 1000
        }
      },
      "source": [
        "dataiter = iter(testloader)\n",
        "images, labels = dataiter.next()\n",
        "\n",
        "fig, axes = plt.subplots(1, len(images), figsize=(12,2.5))\n",
        "for idx, image in enumerate(images):\n",
        "    axes[idx].imshow(convert_to_imshow_format(image))\n",
        "    axes[idx].set_title(classes[labels[idx]])\n",
        "    axes[idx].set_xticks([])\n",
        "    axes[idx].set_yticks([])"
      ],
      "execution_count": 0,
      "outputs": [
        {
          "output_type": "stream",
          "text": [
            "Clipping input data to the valid range for imshow with RGB data ([0..1] for floats or [0..255] for integers).\n",
            "Clipping input data to the valid range for imshow with RGB data ([0..1] for floats or [0..255] for integers).\n",
            "Clipping input data to the valid range for imshow with RGB data ([0..1] for floats or [0..255] for integers).\n",
            "Clipping input data to the valid range for imshow with RGB data ([0..1] for floats or [0..255] for integers).\n",
            "Clipping input data to the valid range for imshow with RGB data ([0..1] for floats or [0..255] for integers).\n",
            "Clipping input data to the valid range for imshow with RGB data ([0..1] for floats or [0..255] for integers).\n",
            "Clipping input data to the valid range for imshow with RGB data ([0..1] for floats or [0..255] for integers).\n",
            "Clipping input data to the valid range for imshow with RGB data ([0..1] for floats or [0..255] for integers).\n",
            "Clipping input data to the valid range for imshow with RGB data ([0..1] for floats or [0..255] for integers).\n",
            "Clipping input data to the valid range for imshow with RGB data ([0..1] for floats or [0..255] for integers).\n",
            "Clipping input data to the valid range for imshow with RGB data ([0..1] for floats or [0..255] for integers).\n",
            "Clipping input data to the valid range for imshow with RGB data ([0..1] for floats or [0..255] for integers).\n",
            "Clipping input data to the valid range for imshow with RGB data ([0..1] for floats or [0..255] for integers).\n",
            "Clipping input data to the valid range for imshow with RGB data ([0..1] for floats or [0..255] for integers).\n",
            "Clipping input data to the valid range for imshow with RGB data ([0..1] for floats or [0..255] for integers).\n",
            "Clipping input data to the valid range for imshow with RGB data ([0..1] for floats or [0..255] for integers).\n",
            "Clipping input data to the valid range for imshow with RGB data ([0..1] for floats or [0..255] for integers).\n",
            "Clipping input data to the valid range for imshow with RGB data ([0..1] for floats or [0..255] for integers).\n",
            "Clipping input data to the valid range for imshow with RGB data ([0..1] for floats or [0..255] for integers).\n",
            "Clipping input data to the valid range for imshow with RGB data ([0..1] for floats or [0..255] for integers).\n",
            "Clipping input data to the valid range for imshow with RGB data ([0..1] for floats or [0..255] for integers).\n",
            "Clipping input data to the valid range for imshow with RGB data ([0..1] for floats or [0..255] for integers).\n",
            "Clipping input data to the valid range for imshow with RGB data ([0..1] for floats or [0..255] for integers).\n",
            "Clipping input data to the valid range for imshow with RGB data ([0..1] for floats or [0..255] for integers).\n",
            "Clipping input data to the valid range for imshow with RGB data ([0..1] for floats or [0..255] for integers).\n",
            "Clipping input data to the valid range for imshow with RGB data ([0..1] for floats or [0..255] for integers).\n",
            "Clipping input data to the valid range for imshow with RGB data ([0..1] for floats or [0..255] for integers).\n",
            "Clipping input data to the valid range for imshow with RGB data ([0..1] for floats or [0..255] for integers).\n",
            "Clipping input data to the valid range for imshow with RGB data ([0..1] for floats or [0..255] for integers).\n",
            "Clipping input data to the valid range for imshow with RGB data ([0..1] for floats or [0..255] for integers).\n",
            "Clipping input data to the valid range for imshow with RGB data ([0..1] for floats or [0..255] for integers).\n",
            "Clipping input data to the valid range for imshow with RGB data ([0..1] for floats or [0..255] for integers).\n",
            "Clipping input data to the valid range for imshow with RGB data ([0..1] for floats or [0..255] for integers).\n",
            "Clipping input data to the valid range for imshow with RGB data ([0..1] for floats or [0..255] for integers).\n",
            "Clipping input data to the valid range for imshow with RGB data ([0..1] for floats or [0..255] for integers).\n",
            "Clipping input data to the valid range for imshow with RGB data ([0..1] for floats or [0..255] for integers).\n",
            "Clipping input data to the valid range for imshow with RGB data ([0..1] for floats or [0..255] for integers).\n",
            "Clipping input data to the valid range for imshow with RGB data ([0..1] for floats or [0..255] for integers).\n",
            "Clipping input data to the valid range for imshow with RGB data ([0..1] for floats or [0..255] for integers).\n",
            "Clipping input data to the valid range for imshow with RGB data ([0..1] for floats or [0..255] for integers).\n",
            "Clipping input data to the valid range for imshow with RGB data ([0..1] for floats or [0..255] for integers).\n",
            "Clipping input data to the valid range for imshow with RGB data ([0..1] for floats or [0..255] for integers).\n",
            "Clipping input data to the valid range for imshow with RGB data ([0..1] for floats or [0..255] for integers).\n",
            "Clipping input data to the valid range for imshow with RGB data ([0..1] for floats or [0..255] for integers).\n",
            "Clipping input data to the valid range for imshow with RGB data ([0..1] for floats or [0..255] for integers).\n",
            "Clipping input data to the valid range for imshow with RGB data ([0..1] for floats or [0..255] for integers).\n",
            "Clipping input data to the valid range for imshow with RGB data ([0..1] for floats or [0..255] for integers).\n",
            "Clipping input data to the valid range for imshow with RGB data ([0..1] for floats or [0..255] for integers).\n",
            "Clipping input data to the valid range for imshow with RGB data ([0..1] for floats or [0..255] for integers).\n",
            "Clipping input data to the valid range for imshow with RGB data ([0..1] for floats or [0..255] for integers).\n",
            "Clipping input data to the valid range for imshow with RGB data ([0..1] for floats or [0..255] for integers).\n",
            "Clipping input data to the valid range for imshow with RGB data ([0..1] for floats or [0..255] for integers).\n",
            "Clipping input data to the valid range for imshow with RGB data ([0..1] for floats or [0..255] for integers).\n",
            "Clipping input data to the valid range for imshow with RGB data ([0..1] for floats or [0..255] for integers).\n",
            "Clipping input data to the valid range for imshow with RGB data ([0..1] for floats or [0..255] for integers).\n",
            "Clipping input data to the valid range for imshow with RGB data ([0..1] for floats or [0..255] for integers).\n",
            "Clipping input data to the valid range for imshow with RGB data ([0..1] for floats or [0..255] for integers).\n",
            "Clipping input data to the valid range for imshow with RGB data ([0..1] for floats or [0..255] for integers).\n",
            "Clipping input data to the valid range for imshow with RGB data ([0..1] for floats or [0..255] for integers).\n",
            "Clipping input data to the valid range for imshow with RGB data ([0..1] for floats or [0..255] for integers).\n",
            "Clipping input data to the valid range for imshow with RGB data ([0..1] for floats or [0..255] for integers).\n",
            "Clipping input data to the valid range for imshow with RGB data ([0..1] for floats or [0..255] for integers).\n",
            "Clipping input data to the valid range for imshow with RGB data ([0..1] for floats or [0..255] for integers).\n",
            "Clipping input data to the valid range for imshow with RGB data ([0..1] for floats or [0..255] for integers).\n",
            "Clipping input data to the valid range for imshow with RGB data ([0..1] for floats or [0..255] for integers).\n",
            "Clipping input data to the valid range for imshow with RGB data ([0..1] for floats or [0..255] for integers).\n",
            "Clipping input data to the valid range for imshow with RGB data ([0..1] for floats or [0..255] for integers).\n",
            "Clipping input data to the valid range for imshow with RGB data ([0..1] for floats or [0..255] for integers).\n",
            "Clipping input data to the valid range for imshow with RGB data ([0..1] for floats or [0..255] for integers).\n",
            "Clipping input data to the valid range for imshow with RGB data ([0..1] for floats or [0..255] for integers).\n",
            "Clipping input data to the valid range for imshow with RGB data ([0..1] for floats or [0..255] for integers).\n",
            "Clipping input data to the valid range for imshow with RGB data ([0..1] for floats or [0..255] for integers).\n",
            "Clipping input data to the valid range for imshow with RGB data ([0..1] for floats or [0..255] for integers).\n",
            "Clipping input data to the valid range for imshow with RGB data ([0..1] for floats or [0..255] for integers).\n",
            "Clipping input data to the valid range for imshow with RGB data ([0..1] for floats or [0..255] for integers).\n",
            "Clipping input data to the valid range for imshow with RGB data ([0..1] for floats or [0..255] for integers).\n",
            "Clipping input data to the valid range for imshow with RGB data ([0..1] for floats or [0..255] for integers).\n",
            "Clipping input data to the valid range for imshow with RGB data ([0..1] for floats or [0..255] for integers).\n",
            "Clipping input data to the valid range for imshow with RGB data ([0..1] for floats or [0..255] for integers).\n",
            "Clipping input data to the valid range for imshow with RGB data ([0..1] for floats or [0..255] for integers).\n",
            "Clipping input data to the valid range for imshow with RGB data ([0..1] for floats or [0..255] for integers).\n",
            "Clipping input data to the valid range for imshow with RGB data ([0..1] for floats or [0..255] for integers).\n",
            "Clipping input data to the valid range for imshow with RGB data ([0..1] for floats or [0..255] for integers).\n",
            "Clipping input data to the valid range for imshow with RGB data ([0..1] for floats or [0..255] for integers).\n",
            "Clipping input data to the valid range for imshow with RGB data ([0..1] for floats or [0..255] for integers).\n",
            "Clipping input data to the valid range for imshow with RGB data ([0..1] for floats or [0..255] for integers).\n",
            "Clipping input data to the valid range for imshow with RGB data ([0..1] for floats or [0..255] for integers).\n",
            "Clipping input data to the valid range for imshow with RGB data ([0..1] for floats or [0..255] for integers).\n",
            "Clipping input data to the valid range for imshow with RGB data ([0..1] for floats or [0..255] for integers).\n",
            "Clipping input data to the valid range for imshow with RGB data ([0..1] for floats or [0..255] for integers).\n",
            "Clipping input data to the valid range for imshow with RGB data ([0..1] for floats or [0..255] for integers).\n",
            "Clipping input data to the valid range for imshow with RGB data ([0..1] for floats or [0..255] for integers).\n",
            "Clipping input data to the valid range for imshow with RGB data ([0..1] for floats or [0..255] for integers).\n",
            "Clipping input data to the valid range for imshow with RGB data ([0..1] for floats or [0..255] for integers).\n",
            "Clipping input data to the valid range for imshow with RGB data ([0..1] for floats or [0..255] for integers).\n",
            "Clipping input data to the valid range for imshow with RGB data ([0..1] for floats or [0..255] for integers).\n",
            "Clipping input data to the valid range for imshow with RGB data ([0..1] for floats or [0..255] for integers).\n",
            "Clipping input data to the valid range for imshow with RGB data ([0..1] for floats or [0..255] for integers).\n",
            "Clipping input data to the valid range for imshow with RGB data ([0..1] for floats or [0..255] for integers).\n",
            "Clipping input data to the valid range for imshow with RGB data ([0..1] for floats or [0..255] for integers).\n"
          ],
          "name": "stderr"
        },
        {
          "output_type": "display_data",
          "data": {
            "image/png": "[encoded data removed]",
            "text/plain": [
              "<Figure size 864x180 with 100 Axes>"
            ]
          },
          "metadata": {
            "tags": []
          }
        }
      ]
    },
    {
      "cell_type": "code",
      "metadata": {
        "colab_type": "code",
        "id": "QLy5ZzrX8zsu",
        "colab": {}
      },
      "source": [
        "images = images.to(device)\n",
        "labels = labels.to(device)\n",
        "outputs = net(images)"
      ],
      "execution_count": 0,
      "outputs": []
    },
    {
      "cell_type": "code",
      "metadata": {
        "colab_type": "code",
        "id": "62yOz5JL88Qc",
        "colab": {}
      },
      "source": [
        "sm = nn.Softmax(dim=1)\n",
        "sm_outputs = sm(outputs)"
      ],
      "execution_count": 0,
      "outputs": []
    },
    {
      "cell_type": "code",
      "metadata": {
        "colab_type": "code",
        "id": "uoNLB8qn8-aQ",
        "outputId": "292feca2-083e-4b8e-fb13-0e3f85e15d61",
        "colab": {
          "base_uri": "https://localhost:8080/",
          "height": 1000
        }
      },
      "source": [
        "probs, index = torch.max(sm_outputs, dim=1)\n",
        "\n",
        "for p, i in zip(probs, index):\n",
        "    print('{0} - {1:.4f}'.format(classes[i], p))"
      ],
      "execution_count": 0,
      "outputs": [
        {
          "output_type": "stream",
          "text": [
            "cat - 0.9857\n",
            "ship - 0.9988\n",
            "ship - 0.9895\n",
            "plane - 0.9479\n",
            "frog - 0.9984\n",
            "frog - 0.9242\n",
            "truck - 0.5304\n",
            "frog - 0.9995\n",
            "cat - 0.9703\n",
            "car - 0.9947\n",
            "plane - 0.9980\n",
            "truck - 1.0000\n",
            "cat - 0.5652\n",
            "horse - 0.9998\n",
            "truck - 0.9999\n",
            "ship - 0.8999\n",
            "dog - 0.9968\n",
            "horse - 0.9995\n",
            "ship - 0.9999\n",
            "frog - 1.0000\n",
            "horse - 0.9502\n",
            "plane - 0.9792\n",
            "deer - 0.9267\n",
            "truck - 0.9999\n",
            "deer - 0.8941\n",
            "bird - 0.9984\n",
            "deer - 0.9109\n",
            "plane - 0.9988\n",
            "truck - 0.9998\n",
            "frog - 0.9987\n",
            "frog - 0.9995\n",
            "dog - 0.9997\n",
            "deer - 0.9686\n",
            "dog - 0.9859\n",
            "truck - 0.9999\n",
            "truck - 0.4411\n",
            "deer - 0.9886\n",
            "truck - 0.9387\n",
            "truck - 0.9999\n",
            "dog - 0.9999\n",
            "deer - 0.9630\n",
            "frog - 0.9999\n",
            "dog - 0.9065\n",
            "frog - 0.9997\n",
            "plane - 0.9996\n",
            "truck - 1.0000\n",
            "cat - 0.9778\n",
            "truck - 0.9928\n",
            "horse - 0.9926\n",
            "frog - 0.9906\n",
            "truck - 1.0000\n",
            "ship - 0.9996\n",
            "truck - 0.9385\n",
            "cat - 0.7662\n",
            "ship - 0.9999\n",
            "ship - 1.0000\n",
            "horse - 0.9922\n",
            "cat - 0.9060\n",
            "dog - 0.7738\n",
            "frog - 0.8623\n",
            "horse - 0.9998\n",
            "dog - 0.9158\n",
            "frog - 0.9973\n",
            "cat - 0.9140\n",
            "frog - 0.9987\n",
            "bird - 0.9984\n",
            "car - 0.9960\n",
            "bird - 0.9976\n",
            "cat - 0.6547\n",
            "horse - 0.3259\n",
            "plane - 0.5155\n",
            "frog - 0.9991\n",
            "ship - 0.9983\n",
            "ship - 0.9996\n",
            "plane - 0.5200\n",
            "bird - 0.9998\n",
            "truck - 0.9998\n",
            "cat - 0.9987\n",
            "cat - 0.9285\n",
            "ship - 0.9997\n",
            "ship - 0.9999\n",
            "car - 0.9974\n",
            "car - 0.9999\n",
            "horse - 0.9994\n",
            "bird - 0.8054\n",
            "dog - 0.4174\n",
            "horse - 0.2937\n",
            "cat - 0.7548\n",
            "ship - 0.9998\n",
            "truck - 1.0000\n",
            "plane - 0.9997\n",
            "cat - 0.7611\n",
            "ship - 0.9907\n",
            "frog - 0.9998\n",
            "deer - 0.9969\n",
            "frog - 0.5776\n",
            "plane - 0.6049\n",
            "plane - 0.9524\n",
            "plane - 0.9979\n",
            "horse - 0.9999\n"
          ],
          "name": "stdout"
        }
      ]
    },
    {
      "cell_type": "code",
      "metadata": {
        "colab_type": "code",
        "id": "i8Ea3pUp9EKx",
        "outputId": "35c0068c-c03a-4e34-9cd5-10ee89d20edf",
        "colab": {
          "base_uri": "https://localhost:8080/",
          "height": 35
        }
      },
      "source": [
        "#Model Accuracy\n",
        "\n",
        "total_correct = 0\n",
        "total_images = 0\n",
        "confusion_matrix = np.zeros([10,10], int)\n",
        "with torch.no_grad():\n",
        "    for data in testloader:\n",
        "        images, labels = data\n",
        "        images = images.to(device)\n",
        "        labels = labels.to(device)\n",
        "        outputs = net(images)\n",
        "        _, predicted = torch.max(outputs.data, 1)\n",
        "        total_images += labels.size(0)\n",
        "        total_correct += (predicted == labels).sum().item()\n",
        "        for i, l in enumerate(labels):\n",
        "            confusion_matrix[l.item(), predicted[i].item()] += 1 \n",
        "\n",
        "model_accuracy = total_correct / total_images * 100\n",
        "print('Model accuracy on {0} test images: {1:.2f}%'.format(total_images, model_accuracy))"
      ],
      "execution_count": 0,
      "outputs": [
        {
          "output_type": "stream",
          "text": [
            "Model accuracy on 10000 test images: 88.85%\n"
          ],
          "name": "stdout"
        }
      ]
    },
    {
      "cell_type": "code",
      "metadata": {
        "colab_type": "code",
        "id": "bIvvAoVx9ET0",
        "outputId": "9ae3114f-a8c6-473a-fc56-aed76ce4cca5",
        "colab": {
          "base_uri": "https://localhost:8080/",
          "height": 208
        }
      },
      "source": [
        "print('{0:10s} - {1}'.format('Category','Accuracy'))\n",
        "for i, r in enumerate(confusion_matrix):\n",
        "    print('{0:10s} - {1:.1f}'.format(classes[i], r[i]/np.sum(r)*100))"
      ],
      "execution_count": 0,
      "outputs": [
        {
          "output_type": "stream",
          "text": [
            "Category   - Accuracy\n",
            "plane      - 91.4\n",
            "car        - 94.8\n",
            "bird       - 83.4\n",
            "cat        - 78.6\n",
            "deer       - 89.9\n",
            "dog        - 80.4\n",
            "frog       - 92.6\n",
            "horse      - 88.8\n",
            "ship       - 93.3\n",
            "truck      - 95.3\n"
          ],
          "name": "stdout"
        }
      ]
    },
    {
      "cell_type": "code",
      "metadata": {
        "colab_type": "code",
        "id": "jk_A6ffi9EIx",
        "outputId": "c797aca7-66e7-4620-81f6-2cba5476ca58",
        "colab": {
          "base_uri": "https://localhost:8080/",
          "height": 381
        }
      },
      "source": [
        "#Confusion Matrix\n",
        "\n",
        "print('actual/pred'.ljust(16), end='')\n",
        "for i,c in enumerate(classes):\n",
        "    print(c.ljust(10), end='')\n",
        "print()\n",
        "for i,r in enumerate(confusion_matrix):\n",
        "    print(classes[i].ljust(16), end='')\n",
        "    for idx, p in enumerate(r):\n",
        "        print(str(p).ljust(10), end='')\n",
        "    print()\n",
        "    \n",
        "    r = r/np.sum(r)\n",
        "    print(''.ljust(16), end='')\n",
        "    for idx, p in enumerate(r):\n",
        "        print(str(p).ljust(10), end='')\n",
        "    print()"
      ],
      "execution_count": 0,
      "outputs": [
        {
          "output_type": "stream",
          "text": [
            "actual/pred     plane     car       bird      cat       deer      dog       frog      horse     ship      truck     \n",
            "plane           914       8         14        7         3         2         3         4         27        18        \n",
            "                0.914     0.008     0.014     0.007     0.003     0.002     0.003     0.004     0.027     0.018     \n",
            "car             9         948       1         0         0         1         0         0         9         32        \n",
            "                0.009     0.948     0.001     0.0       0.0       0.001     0.0       0.0       0.009     0.032     \n",
            "bird            39        3         834       21        27        17        27        13        7         12        \n",
            "                0.039     0.003     0.834     0.021     0.027     0.017     0.027     0.013     0.007     0.012     \n",
            "cat             10        8         19        786       35        80        28        7         14        13        \n",
            "                0.01      0.008     0.019     0.786     0.035     0.08      0.028     0.007     0.014     0.013     \n",
            "deer            15        1         26        16        899       10        12        14        4         3         \n",
            "                0.015     0.001     0.026     0.016     0.899     0.01      0.012     0.014     0.004     0.003     \n",
            "dog             9         4         13        108       30        804       10        14        1         7         \n",
            "                0.009     0.004     0.013     0.108     0.03      0.804     0.01      0.014     0.001     0.007     \n",
            "frog            6         3         17        23        11        6         926       3         3         2         \n",
            "                0.006     0.003     0.017     0.023     0.011     0.006     0.926     0.003     0.003     0.002     \n",
            "horse           7         1         13        26        24        23        1         888       2         15        \n",
            "                0.007     0.001     0.013     0.026     0.024     0.023     0.001     0.888     0.002     0.015     \n",
            "ship            44        6         1         3         0         1         1         1         933       10        \n",
            "                0.044     0.006     0.001     0.003     0.0       0.001     0.001     0.001     0.933     0.01      \n",
            "truck           8         27        1         1         0         0         0         1         9         953       \n",
            "                0.008     0.027     0.001     0.001     0.0       0.0       0.0       0.001     0.009     0.953     \n"
          ],
          "name": "stdout"
        }
      ]
    },
    {
      "cell_type": "code",
      "metadata": {
        "colab_type": "code",
        "id": "k-M1UjqK9Qhp",
        "colab": {}
      },
      "source": [
        "#Ran a lot of different models ,with different learning rates, tried different combinations of augmentations such as changing brightness, hue, jitter, and also normalisation. Experimented on different batch sizes and number of epochs. Also made architecture changes regarding number of blocks to reduce the number of parameters. \n",
        "\n",
        "#Decisions on how to conitnue further were made by looking at the loss. By analysing loss, we took steps like adding regualrizers to prevent overfitting. You can see all different variations in the excel sheet attached."
      ],
      "execution_count": 0,
      "outputs": []
    },
    {
      "cell_type": "code",
      "metadata": {
        "colab_type": "code",
        "id": "ln5BfqrypJWV",
        "colab": {}
      },
      "source": [
        "temp_check = torch.load('./checkpoint/ckpt.pth')"
      ],
      "execution_count": 0,
      "outputs": []
    },
    {
      "cell_type": "code",
      "metadata": {
        "colab_type": "code",
        "id": "Noq8TncEqxI9",
        "outputId": "3caa9c64-a26d-4ede-c6e9-2581af249cc5",
        "colab": {
          "base_uri": "https://localhost:8080/",
          "height": 35
        }
      },
      "source": [
        "type(temp_check.get('net').get('state_dict'))"
      ],
      "execution_count": 0,
      "outputs": [
        {
          "output_type": "execute_result",
          "data": {
            "text/plain": [
              "NoneType"
            ]
          },
          "metadata": {
            "tags": []
          },
          "execution_count": 78
        }
      ]
    },
    {
      "cell_type": "code",
      "metadata": {
        "colab_type": "code",
        "id": "6h4FpHNF04cU",
        "colab": {}
      },
      "source": [
        ""
      ],
      "execution_count": 0,
      "outputs": []
    },
    {
      "cell_type": "code",
      "metadata": {
        "colab_type": "code",
        "id": "R7oFgVW0gtG4",
        "outputId": "a8e233de-72b2-42e7-813f-fec743a90f51",
        "colab": {
          "base_uri": "https://localhost:8080/",
          "height": 69
        }
      },
      "source": [
        "with torch.no_grad():\n",
        "  counter = 100\n",
        "  for batch_idx, (inputs, targets) in enumerate(testloader):\n",
        "    inputs, targets = inputs.to(device), targets.to(device)\n",
        "    model = torch.load('./checkpoint/net.pth')\n",
        "    outputs = model(inputs)\n",
        "    # loss = criterion(outputs, targets)\n",
        "    # test_loss += loss.item()\n",
        "    # _, predicted = outputs.max(1)\n",
        "    # total += targets.size(0)\n",
        "    # correct += predicted.eq(targets).sum().item()\n",
        "    softmax = torch.exp(outputs).cpu()\n",
        "    prob = list(softmax.numpy())\n",
        "    predictions = np.argmax(prob, axis=1)\n",
        "    print(predictions)\n",
        "    break\n",
        "\n",
        "\n"
      ],
      "execution_count": 0,
      "outputs": [
        {
          "output_type": "stream",
          "text": [
            "[3 8 8 0 6 6 9 6 3 1 0 9 3 7 9 8 5 7 8 6 7 0 4 9 4 2 4 0 9 6 6 5 4 5 9 9 4\n",
            " 9 9 5 4 6 5 6 0 9 3 9 7 6 9 8 9 3 8 8 7 3 5 6 7 5 6 3 6 2 1 2 3 7 0 6 8 8\n",
            " 0 2 9 3 3 8 8 1 1 7 2 5 7 3 8 9 0 3 8 6 4 6 0 0 0 7]\n"
          ],
          "name": "stdout"
        }
      ]
    },
    {
      "cell_type": "code",
      "metadata": {
        "colab_type": "code",
        "id": "Q-uq4MGzkutu",
        "colab": {}
      },
      "source": [
        "checkpoint = torch.load('./checkpoint/net.pth')\n",
        "#model = checkpoint['net']\n",
        "#model.load_state_dict(checkpoint['state_dict'])\n",
        "\n"
      ],
      "execution_count": 0,
      "outputs": []
    }
  ]
}